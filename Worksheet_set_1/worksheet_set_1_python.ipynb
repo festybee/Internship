{
 "cells": [
  {
   "cell_type": "code",
   "execution_count": 1,
   "id": "f2c45783",
   "metadata": {},
   "outputs": [],
   "source": [
    "# 11. Write a python program to find the factorial of a number.\n",
    "\n",
    "def factorial(number):\n",
    "    result = 1\n",
    "    if number < 0: return f\"Factorial does not exist for negative numbers\"\n",
    "    if number == 0: return result\n",
    "    \n",
    "    for i in range(1, number+1):\n",
    "        result *= i\n",
    "    \n",
    "    return result"
   ]
  },
  {
   "cell_type": "code",
   "execution_count": 2,
   "id": "bbfb5524",
   "metadata": {},
   "outputs": [],
   "source": [
    "# 12. Write a python program to find whether a number is prime or composite.\n",
    "\n",
    "def prime_composite(number):\n",
    "\n",
    "    if number < 2: return f\"{number} is neither Prime nor Composite.\"\n",
    "    for i in range(2, number):\n",
    "        if number % i == 0:\n",
    "            return f\"{number} is Composite.\"\n",
    "    else:\n",
    "        return f\"{number} is Prime.\""
   ]
  },
  {
   "cell_type": "code",
   "execution_count": 3,
   "id": "86194b97",
   "metadata": {},
   "outputs": [],
   "source": [
    "# 13. Write a python program to check whether a given string is palindrome or not.\n",
    "\n",
    "def is_palindrome(string):\n",
    "    \n",
    "    word = \"\".join([ char for char in string if char.isalnum() ])                # Get all alphanumeic characters of the string into a variable\n",
    "    reverse_word = \"\".join([ char for char in string[::-1] if char.isalnum()])  # Get all alphanumeic characters of the reversed string into a variable\n",
    "    char_count = len([char for char in string if char.isalnum() ])              # Check if string contains alphanumeric characters and get the count\n",
    "    \n",
    "    if char_count <= 1: return f\"{string} is not a palindrome!\"\n",
    "    \n",
    "    if word == reverse_word:\n",
    "        return f\"{string.strip()} is a palindrome!\"\n",
    "    else:\n",
    "        return f\"{string.strip()} is not a palindrome!\""
   ]
  },
  {
   "cell_type": "code",
   "execution_count": 4,
   "id": "582fa824",
   "metadata": {},
   "outputs": [],
   "source": [
    "# 14. Write a Python program to get the third side of right-angled triangle from two given sides.\n",
    "# Easy\n",
    "def find_third_side_of_triangle():\n",
    "    a = float(input(\"Enter the adjacent: \"))\n",
    "    b = float(input(\"Enter the opposite: \"))\n",
    "    c = round((a**2 + b**2)**0.5, 2)\n",
    "    \n",
    "    return f\"The length of the third side is {c}\""
   ]
  },
  {
   "cell_type": "code",
   "execution_count": 5,
   "id": "a9f316c5",
   "metadata": {},
   "outputs": [],
   "source": [
    "# 14. Write a Python program to get the third side of right-angled triangle from two given sides.\n",
    "# More complex\n",
    "def find_side_of_triangle():\n",
    "    print(\"\"\"\n",
    "    Give 2 sides of the right-angle triangle and the third side would be calculated.\n",
    "    a = adjacent\n",
    "    b = opposite\n",
    "    c = hypotenuse\n",
    "    Press enter to skip a side\n",
    "    \"\"\")\n",
    "    a = input(\"Enter the adjacent: \")\n",
    "    b = input(\"Enter the opposite: \")\n",
    "    c = input(\"Enter the hypotenuse: \")\n",
    "    \n",
    "    if len(c) < 1:\n",
    "        c = (int(a)**2 + int(b)**2)**0.5\n",
    "        return f\"The Hypotenuse is {round(c, 2)}\"\n",
    "    if len(b) < 1:\n",
    "        if int(c) <= int(a): return f\"Hypotenuse cannot be equal or smaller than the Adjacent\"\n",
    "        b = (int(c)**2 - int(a)**2)**0.5\n",
    "        return f\"The Opposite is {round(b, 2)}\"\n",
    "    if len(a) < 1:\n",
    "        if int(c) <= int(b): return f\"Hypotenuse cannot be equal or smaller than the Opposite\" \n",
    "        a = (int(c)**2 - int(b)**2)**0.5\n",
    "        return f\"The Adjacent is {round(a, 2)}\"\n",
    "    else:\n",
    "        return f\"Error, 2 sides have to be given in numbers for the third side to be calculated.\""
   ]
  },
  {
   "cell_type": "code",
   "execution_count": 6,
   "id": "bb64d43f",
   "metadata": {},
   "outputs": [],
   "source": [
    "# 15. Write a python program to print the frequency of each of the characters present in a given string.\n",
    "\n",
    "def character_count(string):\n",
    "    count = {}\n",
    "    #solution = \"\"\n",
    "    string = \"\".join([ char for char in string if char.isalpha() ])\n",
    "    for char in string.lower():\n",
    "        if char not in count:\n",
    "            count[char] = 1\n",
    "        else:\n",
    "            count[char] += 1\n",
    "    for i in count.keys():\n",
    "        print(f\"{i} appeared {count[i]} times.\")\n"
   ]
  },
  {
   "cell_type": "code",
   "execution_count": null,
   "id": "d82c0e51",
   "metadata": {},
   "outputs": [],
   "source": []
  }
 ],
 "metadata": {
  "kernelspec": {
   "display_name": "Python 3 (ipykernel)",
   "language": "python",
   "name": "python3"
  },
  "language_info": {
   "codemirror_mode": {
    "name": "ipython",
    "version": 3
   },
   "file_extension": ".py",
   "mimetype": "text/x-python",
   "name": "python",
   "nbconvert_exporter": "python",
   "pygments_lexer": "ipython3",
   "version": "3.10.6"
  }
 },
 "nbformat": 4,
 "nbformat_minor": 5
}
