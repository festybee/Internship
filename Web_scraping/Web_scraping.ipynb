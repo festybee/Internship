{
 "cells": [
  {
   "cell_type": "markdown",
   "id": "e2629e17",
   "metadata": {},
   "source": [
    "## Import Required Libraries"
   ]
  },
  {
   "cell_type": "code",
   "execution_count": 1,
   "id": "2cb96fe8",
   "metadata": {},
   "outputs": [],
   "source": [
    "from bs4 import BeautifulSoup\n",
    "import requests\n",
    "import pandas as pd\n",
    "from datetime import datetime as dt"
   ]
  },
  {
   "cell_type": "code",
   "execution_count": 2,
   "id": "59e6870b",
   "metadata": {},
   "outputs": [],
   "source": [
    "#1. Write a python program to display all the header tags from wikipedia.org and make data frame.\n",
    "def webpage_headers(url):\n",
    "    page = requests.get(url)\n",
    "    soup = BeautifulSoup(page.content)\n",
    "    \n",
    "    headers = []\n",
    "    for i in soup.find_all('h2', class_=\"mp-h2\"):\n",
    "        headers.append(i.text)\n",
    "\n",
    "    df = pd.DataFrame({'Headers': headers})\n",
    "    \n",
    "    return df"
   ]
  },
  {
   "cell_type": "code",
   "execution_count": 3,
   "id": "8fb9d345",
   "metadata": {},
   "outputs": [],
   "source": [
    "#webpage_headers(\"https://en.wikipedia.org/wiki/Main_Page\")"
   ]
  },
  {
   "cell_type": "code",
   "execution_count": 4,
   "id": "01b26e1f",
   "metadata": {},
   "outputs": [],
   "source": [
    "# 2. Write a python program to display IMDB’s Top rated 50 movies’ data (i.e. name, rating, year of release) and make data frame.\n",
    "def imdb_top50(url):\n",
    "    page = requests.get(url)\n",
    "    soup = BeautifulSoup(page.content)\n",
    "    \n",
    "    movie_name = []\n",
    "    rating = []\n",
    "    release_year = []\n",
    "    \n",
    "    for i in range(50):\n",
    "        data = soup.find_all(\"td\", class_=\"titleColumn\")\n",
    "        viewers_rating = soup.find_all(\"td\", class_=\"ratingColumn imdbRating\")\n",
    "        movie_name.append(data[i].text.strip().splitlines()[1].strip())\n",
    "        release_year.append(data[i].text.strip().splitlines()[2].strip('()'))\n",
    "        rating.append(viewers_rating[i].text.strip())\n",
    "\n",
    "    df = pd.DataFrame({'Movie_Name': movie_name, 'Rating': rating, 'Release_Year': release_year})\n",
    "    \n",
    "    return df"
   ]
  },
  {
   "cell_type": "code",
   "execution_count": 5,
   "id": "9077da64",
   "metadata": {},
   "outputs": [],
   "source": [
    "#imdb_top50(\"https://www.imdb.com/chart/top/\")"
   ]
  },
  {
   "cell_type": "code",
   "execution_count": 6,
   "id": "28134e08",
   "metadata": {},
   "outputs": [],
   "source": [
    "#3. Write a python program to display IMDB’s Top rated 50 Indian movies’ data (i.e. name, rating, year of release) and make data frame.\n",
    "def imdb_Indian_top50(url):\n",
    "    page = requests.get(url)\n",
    "    soup = BeautifulSoup(page.content)\n",
    "    \n",
    "    movie_name = []\n",
    "    rating = []\n",
    "    release_year = []\n",
    "    for i in range(50):\n",
    "        data = soup.find_all(\"td\", class_=\"titleColumn\")\n",
    "        viewers_rating = soup.find_all(\"td\", class_=\"ratingColumn imdbRating\")\n",
    "        movie_name.append(data[i].text.strip().splitlines()[1].strip())\n",
    "        release_year.append(data[i].text.strip().splitlines()[2].strip('()'))\n",
    "        rating.append(viewers_rating[i].text.strip())\n",
    "\n",
    "    df = pd.DataFrame({'Movie_Name': movie_name, 'Rating': rating, 'Release_Year': release_year})\n",
    "    \n",
    "    return df"
   ]
  },
  {
   "cell_type": "code",
   "execution_count": 7,
   "id": "b3f117e8",
   "metadata": {},
   "outputs": [],
   "source": [
    "#imdb_Indian_top50(\"https://www.imdb.com/india/top-rated-indian-movies/\")"
   ]
  },
  {
   "cell_type": "code",
   "execution_count": 8,
   "id": "a1f0522a",
   "metadata": {},
   "outputs": [],
   "source": [
    "#4. Write s python program to display list of respected former presidents of India(i.e. Name , Term of office)\n",
    "# from https://presidentofindia.nic.in/former-presidents.htm and make data frame.\n",
    "def ex_Indian_Presidents(url):\n",
    "    page = requests.get(url)\n",
    "    soup = BeautifulSoup(page.content)\n",
    "    \n",
    "    name = []\n",
    "    term_in_office = []\n",
    "    \n",
    "    for i in soup.find_all('div', class_='presidentListing'):\n",
    "        name.append(i.text.strip().splitlines()[0].split(' (')[0])\n",
    "        term_in_office.append(i.text.strip().splitlines()[1].split(':')[1].strip())\n",
    "    \n",
    "    df = pd.DataFrame({'Name': name, 'Term_in_office': term_in_office})\n",
    "    \n",
    "    return df"
   ]
  },
  {
   "cell_type": "code",
   "execution_count": 9,
   "id": "b0712e24",
   "metadata": {},
   "outputs": [],
   "source": [
    "#ex_Indian_Presidents(\"https://presidentofindia.nic.in/former-presidents.htm\")"
   ]
  },
  {
   "cell_type": "code",
   "execution_count": 10,
   "id": "77c3500b",
   "metadata": {},
   "outputs": [],
   "source": [
    "#5. Write a python program to scrape cricket rankings from icc-cricket.com. You have to scrape and make data frame-\n",
    "# a) Top 10 ODI teams in men’s cricket along with the records for matches, points and rating.\n",
    "# b) Top 10 ODI Batsmen along with the records of their team and rating.\n",
    "# c) Top 10 ODI bowlers along with the records of their team and rating."
   ]
  },
  {
   "cell_type": "code",
   "execution_count": 11,
   "id": "ac6e56c6",
   "metadata": {},
   "outputs": [],
   "source": [
    "# a) Top 10 ODI teams in men’s cricket along with the records for matches, points and rating.\n",
    "def top10_ODI_Team_Men(url):\n",
    "    response = requests.get(url)\n",
    "    soup = BeautifulSoup(response.content)\n",
    "    \n",
    "    teams = []\n",
    "    matches = []\n",
    "    points = []\n",
    "    ratings = []\n",
    "    \n",
    "    for i in range(10):\n",
    "        team = soup.find_all('span', class_='u-hide-phablet')\n",
    "        info = soup.find_all('tr', class_=['rankings-block__banner', 'table-body'])\n",
    "        teams.append(team[i].text)\n",
    "        matches.append(info[i].text.split()[-3])\n",
    "        points.append(info[i].text.split()[-2])\n",
    "        ratings.append(info[i].text.split()[-1])\n",
    "        \n",
    "    df = pd.DataFrame({'Teams': teams, 'Matches': matches, 'Points': points, 'Ratings': ratings})\n",
    "    \n",
    "    return df"
   ]
  },
  {
   "cell_type": "code",
   "execution_count": 12,
   "id": "ceb5ca01",
   "metadata": {},
   "outputs": [],
   "source": [
    "#top10_ODI_Team_Men(\"https://www.icc-cricket.com/rankings/mens/team-rankings/odi\")"
   ]
  },
  {
   "cell_type": "code",
   "execution_count": 13,
   "id": "0baadd3c",
   "metadata": {},
   "outputs": [],
   "source": [
    "# b) Top 10 ODI Batsmen along with the records of their team and rating.\n",
    "def top10_ODI_Bats_Men(url):\n",
    "    response = requests.get(url)\n",
    "    soup = BeautifulSoup(response.content)\n",
    "    \n",
    "    players = []\n",
    "    teams = []\n",
    "    ratings = []\n",
    "    \n",
    "    for i in range(10):\n",
    "        name = soup.find_all('td', class_=['rankings-block__top-player-container', 'table-body__cell rankings-table__name name'])\n",
    "        nation = soup.find_all('td', class_=['rankings-block__banner--nationality', 'table-body__cell nationality-logo rankings-table__team'])\n",
    "        rating = soup.find_all('td', class_=['u-text-left', 'table-body__cell rating'])\n",
    "        players.append(name[i].text.strip())\n",
    "        teams.append(nation[i].text.strip())\n",
    "        ratings.append(rating[i].text.strip())\n",
    "        \n",
    "    df = pd.DataFrame({'Player': players, 'Team': teams, 'Rating': ratings})\n",
    "        \n",
    "    return df\n",
    "    \n",
    "    \n",
    "    "
   ]
  },
  {
   "cell_type": "code",
   "execution_count": 14,
   "id": "50670886",
   "metadata": {},
   "outputs": [],
   "source": [
    "#top10_ODI_Bats_Men(\"https://www.icc-cricket.com/rankings/mens/player-rankings/odi/batting\")"
   ]
  },
  {
   "cell_type": "code",
   "execution_count": 15,
   "id": "f8274dc8",
   "metadata": {},
   "outputs": [],
   "source": [
    "# c) Top 10 ODI bowlers along with the records of their team and rating\n",
    "def top10_ODI_Bowlers_Men(url):\n",
    "    response = requests.get(url)\n",
    "    soup = BeautifulSoup(response.content)\n",
    "    \n",
    "    bowlers = []\n",
    "    teams = []\n",
    "    ratings = []\n",
    "    \n",
    "    for i in range(10):\n",
    "        name = soup.find_all('td', class_=['rankings-block__top-player-container', 'table-body__cell rankings-table__name name'])\n",
    "        nation = soup.find_all('td', class_=['rankings-block__banner--rating', 'table-body__cell nationality-logo rankings-table__team'])\n",
    "        rating = soup.find_all('td', class_=['u-text-left', 'table-body__cell rating'])\n",
    "        bowlers.append(name[i].text.strip())\n",
    "        teams.append(nation[i].text.strip())\n",
    "        ratings.append(rating[i].text.strip())\n",
    "        \n",
    "    df = pd.DataFrame({'Bowler': bowlers, 'Team': teams, 'Rating': ratings})\n",
    "        \n",
    "    return df\n",
    "    \n",
    "    "
   ]
  },
  {
   "cell_type": "code",
   "execution_count": 16,
   "id": "7bae6e03",
   "metadata": {},
   "outputs": [],
   "source": [
    "#top10_ODI_Bowlers_Men(\"https://www.icc-cricket.com/rankings/mens/player-rankings/t20i/bowling\")"
   ]
  },
  {
   "cell_type": "code",
   "execution_count": 17,
   "id": "eaca4e34",
   "metadata": {},
   "outputs": [],
   "source": [
    "# 6) Write a python program to scrape cricket rankings from icc-cricket.com. You have to scrape and make data frame-\n",
    "# a) Top 10 ODI teams in women’s cricket along with the records for matches, points and rating.\n",
    "# b) Top 10 women’s ODI Batting players along with the records of their team and rating.\n",
    "# c) Top 10 women’s ODI all-rounder along with the records of their team and rating.\n"
   ]
  },
  {
   "cell_type": "code",
   "execution_count": 18,
   "id": "94237516",
   "metadata": {},
   "outputs": [],
   "source": [
    "# a) Top 10 ODI teams in women’s cricket along with the records for matches, points and rating.\n",
    "def top10_ODI_Team_Women(url):\n",
    "    response = requests.get(url)\n",
    "    soup = BeautifulSoup(response.content)\n",
    "    \n",
    "    teams = []\n",
    "    matches = []\n",
    "    points = []\n",
    "    ratings = []\n",
    "    \n",
    "    for i in range(10):\n",
    "        team = soup.find_all('span', class_='u-hide-phablet')\n",
    "        info = soup.find_all('tr', class_=['rankings-block__banner', 'table-body'])\n",
    "        teams.append(team[i].text)\n",
    "        matches.append(info[i].text.split()[-3])\n",
    "        points.append(info[i].text.split()[-2])\n",
    "        ratings.append(info[i].text.split()[-1])\n",
    "        \n",
    "    df = pd.DataFrame({'Teams': teams, 'Matches': matches, 'Points': points, 'Ratings': ratings})\n",
    "    \n",
    "    return df"
   ]
  },
  {
   "cell_type": "code",
   "execution_count": 19,
   "id": "4744445a",
   "metadata": {},
   "outputs": [],
   "source": [
    "#top10_ODI_Team_Women(\"https://www.icc-cricket.com/rankings/womens/team-rankings/odi\")"
   ]
  },
  {
   "cell_type": "code",
   "execution_count": 20,
   "id": "4640f898",
   "metadata": {},
   "outputs": [],
   "source": [
    "# b) Top 10 women’s ODI Batting players along with the records of their team and rating.\n",
    "def top10_ODI_Batting_Women(url):\n",
    "    response = requests.get(url)\n",
    "    soup = BeautifulSoup(response.content)\n",
    "    \n",
    "    players = []\n",
    "    teams = []\n",
    "    ratings = []\n",
    "    \n",
    "    first_country = soup.find('div', class_='rankings-block__banner--nationality')\n",
    "    teams.append(first_country.text.strip())\n",
    "    for i in range(10):\n",
    "        name = soup.find_all('td', class_=['rankings-block__top-player-container', 'table-body__cell rankings-table__name name'])\n",
    "        rating = soup.find_all('td', class_=['u-text-left', 'table-body__cell rating'])\n",
    "        players.append(name[i].text.strip())\n",
    "        ratings.append(rating[i].text.strip())\n",
    "        \n",
    "    for i in range(9):\n",
    "        nation = soup.find_all('td', class_='table-body__cell nationality-logo rankings-table__team')\n",
    "        teams.append(nation[i].text.strip())\n",
    "        \n",
    "    df = pd.DataFrame({'Player': players, 'Team': teams, 'Rating': ratings})\n",
    "        \n",
    "    return df"
   ]
  },
  {
   "cell_type": "code",
   "execution_count": 21,
   "id": "0fb98167",
   "metadata": {},
   "outputs": [],
   "source": [
    "#top10_ODI_Batting_Women(\"https://www.icc-cricket.com/rankings/womens/player-rankings/odi/batting\")"
   ]
  },
  {
   "cell_type": "code",
   "execution_count": 22,
   "id": "d35c7ca2",
   "metadata": {},
   "outputs": [],
   "source": [
    "# c) Top 10 women’s ODI all-rounder along with the records of their team and rating.\n",
    "def top10_ODI_All_Rounder_Women(url):\n",
    "    page = requests.get(url)\n",
    "    soup = BeautifulSoup(page.content)\n",
    "    \n",
    "    players = []\n",
    "    teams = []\n",
    "    ratings = []\n",
    "    \n",
    "    first_country = soup.find('div', class_='rankings-block__banner--nationality')\n",
    "    teams.append(first_country.text.strip())\n",
    "    \n",
    "    for i in range(10):\n",
    "        name = soup.find_all('td', class_=['rankings-block__top-player-container', 'table-body__cell rankings-table__name name'])\n",
    "        rating = soup.find_all('td', class_=['u-text-left', 'table-body__cell rating'])\n",
    "        players.append(name[i].text.strip())\n",
    "        ratings.append(rating[i].text.strip())\n",
    "    \n",
    "    for i in range(9):\n",
    "        nation = soup.find_all('td', class_='table-body__cell nationality-logo rankings-table__team')\n",
    "        teams.append(nation[i].text.strip())\n",
    "        \n",
    "    df = pd.DataFrame({'Player': players, 'Team': teams, 'Rating': ratings})\n",
    "    \n",
    "    return df"
   ]
  },
  {
   "cell_type": "code",
   "execution_count": 23,
   "id": "1f0f8028",
   "metadata": {},
   "outputs": [],
   "source": [
    "#top10_ODI_All_Rounder_Women('https://www.icc-cricket.com/rankings/womens/player-rankings/odi/all-rounder')"
   ]
  },
  {
   "cell_type": "code",
   "execution_count": 24,
   "id": "70d2bcaa",
   "metadata": {},
   "outputs": [],
   "source": [
    "#7. Write a python program to scrape mentioned news details from https://www.cnbc.com/world/?region=world and\n",
    "#make data frame-\n",
    "#i)Headline\n",
    "#ii) Time\n",
    "#iii) News Link\n",
    "\n",
    "def cnbc_mentioned_news(url):\n",
    "    page = requests.get(url)\n",
    "    soup = BeautifulSoup(page.content)\n",
    "    \n",
    "    headlines =[]\n",
    "    news_time = []\n",
    "    news_link = []\n",
    "    \n",
    "    for i in soup.find_all('a', class_='LatestNews-headline'):\n",
    "        href = i.get('href')\n",
    "        headlines.append(i.text)\n",
    "        news_link.append(href)\n",
    "    \n",
    "    for j in soup.find_all('span', 'LatestNews-wrapper'):\n",
    "        news_time.append(j.text)\n",
    "        \n",
    "    df = pd.DataFrame({'Headline': headlines, 'News_Time': news_time, 'News_Link': news_link})\n",
    "    \n",
    "    return df\n"
   ]
  },
  {
   "cell_type": "code",
   "execution_count": 25,
   "id": "24330e90",
   "metadata": {},
   "outputs": [],
   "source": [
    "#cnbc_mentioned_news('https://www.cnbc.com/world/?region=world')"
   ]
  },
  {
   "cell_type": "code",
   "execution_count": 26,
   "id": "81113eba",
   "metadata": {},
   "outputs": [],
   "source": [
    "# 8. Write a python program to scrape the details of most downloaded articles from AI in last 90\n",
    "# days.https://www.journals.elsevier.com/artificial-intelligence/most-downloaded-articles\n",
    "# Scrape below mentioned details and make data frame-\n",
    "# i)Paper Title\n",
    "# ii)Authors\n",
    "# iii)Published Date\n",
    "# iv)Paper URL\n",
    "def most_downloaded_articles(url):\n",
    "    page = requests.get(url)\n",
    "    soup = BeautifulSoup(page.content)\n",
    "    \n",
    "    titles = []\n",
    "    authors = []\n",
    "    published_date = []\n",
    "    paper_urls = []\n",
    "    \n",
    "    for i in soup.find_all('a', class_='sc-5smygv-0 fIXTHm'):\n",
    "        href = i.get('href')\n",
    "        titles.append(i.text)\n",
    "        paper_urls.append(href)\n",
    "    \n",
    "    for i in soup.find_all('span', class_='sc-1w3fpd7-0 dnCnAO'):\n",
    "        authors.append(i.text)\n",
    "        \n",
    "    for i in soup.find_all('span', class_='sc-1thf9ly-2 dvggWt'):\n",
    "        published_date.append(i.text)\n",
    "        \n",
    "    df = pd.DataFrame({'Paper_Title': titles, 'Authors': authors, 'Published_Date': published_date, 'Paper_URL': paper_urls})\n",
    "    \n",
    "    return df\n",
    "    \n"
   ]
  },
  {
   "cell_type": "code",
   "execution_count": 27,
   "id": "b0ab98ef",
   "metadata": {},
   "outputs": [],
   "source": [
    "#most_downloaded_articles('https://www.journals.elsevier.com/artificial-intelligence/most-downloaded-articles')"
   ]
  },
  {
   "cell_type": "markdown",
   "id": "05e0ed27",
   "metadata": {},
   "source": [
    "#9) Write a python program to scrape mentioned details from dineout.co.in and make data frame-\n",
    "#i)Restaurant name\n",
    "#ii)Cuisine\n",
    "#iii)Location\n",
    "#iv)Ratings\n",
    "#v)Image URL\n",
    "\n",
    "## Website dineout.co.in cannot open in my region."
   ]
  },
  {
   "cell_type": "code",
   "execution_count": null,
   "id": "f4d639e5",
   "metadata": {},
   "outputs": [],
   "source": []
  }
 ],
 "metadata": {
  "kernelspec": {
   "display_name": "Python 3 (ipykernel)",
   "language": "python",
   "name": "python3"
  },
  "language_info": {
   "codemirror_mode": {
    "name": "ipython",
    "version": 3
   },
   "file_extension": ".py",
   "mimetype": "text/x-python",
   "name": "python",
   "nbconvert_exporter": "python",
   "pygments_lexer": "ipython3",
   "version": "3.10.6"
  }
 },
 "nbformat": 4,
 "nbformat_minor": 5
}
